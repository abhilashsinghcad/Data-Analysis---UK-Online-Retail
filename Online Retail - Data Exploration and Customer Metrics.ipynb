{
 "cells": [
  {
   "cell_type": "code",
   "execution_count": 491,
   "metadata": {},
   "outputs": [
    {
     "name": "stdout",
     "output_type": "stream",
     "text": [
      "/Users/abhilashsinghme/Downloads\n"
     ]
    }
   ],
   "source": [
    "# Import Libraries\n",
    "\n",
    "import pandas as pd\n",
    "import numpy as np\n",
    "import seaborn as sns\n",
    "import matplotlib.pyplot as plt\n",
    "from datetime import datetime\n",
    "%matplotlib inline\n",
    "%cd /Users/abhilashsinghme/Downloads"
   ]
  },
  {
   "cell_type": "code",
   "execution_count": 492,
   "metadata": {},
   "outputs": [
    {
     "data": {
      "text/html": [
       "<div>\n",
       "<style scoped>\n",
       "    .dataframe tbody tr th:only-of-type {\n",
       "        vertical-align: middle;\n",
       "    }\n",
       "\n",
       "    .dataframe tbody tr th {\n",
       "        vertical-align: top;\n",
       "    }\n",
       "\n",
       "    .dataframe thead th {\n",
       "        text-align: right;\n",
       "    }\n",
       "</style>\n",
       "<table border=\"1\" class=\"dataframe\">\n",
       "  <thead>\n",
       "    <tr style=\"text-align: right;\">\n",
       "      <th></th>\n",
       "      <th>Invoice</th>\n",
       "      <th>StockCode</th>\n",
       "      <th>Description</th>\n",
       "      <th>Quantity</th>\n",
       "      <th>InvoiceDate</th>\n",
       "      <th>Price</th>\n",
       "      <th>Customer ID</th>\n",
       "      <th>Country</th>\n",
       "      <th>Revenue</th>\n",
       "    </tr>\n",
       "  </thead>\n",
       "  <tbody>\n",
       "    <tr>\n",
       "      <td>0</td>\n",
       "      <td>489434</td>\n",
       "      <td>85048</td>\n",
       "      <td>15CM CHRISTMAS GLASS BALL 20 LIGHTS</td>\n",
       "      <td>12</td>\n",
       "      <td>2009-12-01 07:45:00</td>\n",
       "      <td>6.95</td>\n",
       "      <td>13085</td>\n",
       "      <td>United Kingdom</td>\n",
       "      <td>83.40</td>\n",
       "    </tr>\n",
       "    <tr>\n",
       "      <td>1</td>\n",
       "      <td>489434</td>\n",
       "      <td>79323P</td>\n",
       "      <td>PINK CHERRY LIGHTS</td>\n",
       "      <td>12</td>\n",
       "      <td>2009-12-01 07:45:00</td>\n",
       "      <td>6.75</td>\n",
       "      <td>13085</td>\n",
       "      <td>United Kingdom</td>\n",
       "      <td>81.00</td>\n",
       "    </tr>\n",
       "    <tr>\n",
       "      <td>2</td>\n",
       "      <td>489434</td>\n",
       "      <td>79323W</td>\n",
       "      <td>WHITE CHERRY LIGHTS</td>\n",
       "      <td>12</td>\n",
       "      <td>2009-12-01 07:45:00</td>\n",
       "      <td>6.75</td>\n",
       "      <td>13085</td>\n",
       "      <td>United Kingdom</td>\n",
       "      <td>81.00</td>\n",
       "    </tr>\n",
       "    <tr>\n",
       "      <td>3</td>\n",
       "      <td>489434</td>\n",
       "      <td>22041</td>\n",
       "      <td>RECORD FRAME 7\" SINGLE SIZE</td>\n",
       "      <td>48</td>\n",
       "      <td>2009-12-01 07:45:00</td>\n",
       "      <td>2.10</td>\n",
       "      <td>13085</td>\n",
       "      <td>United Kingdom</td>\n",
       "      <td>100.80</td>\n",
       "    </tr>\n",
       "    <tr>\n",
       "      <td>4</td>\n",
       "      <td>489434</td>\n",
       "      <td>21232</td>\n",
       "      <td>STRAWBERRY CERAMIC TRINKET BOX</td>\n",
       "      <td>24</td>\n",
       "      <td>2009-12-01 07:45:00</td>\n",
       "      <td>1.25</td>\n",
       "      <td>13085</td>\n",
       "      <td>United Kingdom</td>\n",
       "      <td>30.00</td>\n",
       "    </tr>\n",
       "    <tr>\n",
       "      <td>...</td>\n",
       "      <td>...</td>\n",
       "      <td>...</td>\n",
       "      <td>...</td>\n",
       "      <td>...</td>\n",
       "      <td>...</td>\n",
       "      <td>...</td>\n",
       "      <td>...</td>\n",
       "      <td>...</td>\n",
       "      <td>...</td>\n",
       "    </tr>\n",
       "    <tr>\n",
       "      <td>1007907</td>\n",
       "      <td>581587</td>\n",
       "      <td>22899</td>\n",
       "      <td>CHILDREN'S APRON DOLLY GIRL</td>\n",
       "      <td>6</td>\n",
       "      <td>2011-12-09 12:50:00</td>\n",
       "      <td>2.10</td>\n",
       "      <td>12680</td>\n",
       "      <td>France</td>\n",
       "      <td>12.60</td>\n",
       "    </tr>\n",
       "    <tr>\n",
       "      <td>1007908</td>\n",
       "      <td>581587</td>\n",
       "      <td>23254</td>\n",
       "      <td>CHILDRENS CUTLERY DOLLY GIRL</td>\n",
       "      <td>4</td>\n",
       "      <td>2011-12-09 12:50:00</td>\n",
       "      <td>4.15</td>\n",
       "      <td>12680</td>\n",
       "      <td>France</td>\n",
       "      <td>16.60</td>\n",
       "    </tr>\n",
       "    <tr>\n",
       "      <td>1007909</td>\n",
       "      <td>581587</td>\n",
       "      <td>23255</td>\n",
       "      <td>CHILDRENS CUTLERY CIRCUS PARADE</td>\n",
       "      <td>4</td>\n",
       "      <td>2011-12-09 12:50:00</td>\n",
       "      <td>4.15</td>\n",
       "      <td>12680</td>\n",
       "      <td>France</td>\n",
       "      <td>16.60</td>\n",
       "    </tr>\n",
       "    <tr>\n",
       "      <td>1007910</td>\n",
       "      <td>581587</td>\n",
       "      <td>22138</td>\n",
       "      <td>BAKING SET 9 PIECE RETROSPOT</td>\n",
       "      <td>3</td>\n",
       "      <td>2011-12-09 12:50:00</td>\n",
       "      <td>4.95</td>\n",
       "      <td>12680</td>\n",
       "      <td>France</td>\n",
       "      <td>14.85</td>\n",
       "    </tr>\n",
       "    <tr>\n",
       "      <td>1007911</td>\n",
       "      <td>581587</td>\n",
       "      <td>POST</td>\n",
       "      <td>POSTAGE</td>\n",
       "      <td>1</td>\n",
       "      <td>2011-12-09 12:50:00</td>\n",
       "      <td>18.00</td>\n",
       "      <td>12680</td>\n",
       "      <td>France</td>\n",
       "      <td>18.00</td>\n",
       "    </tr>\n",
       "  </tbody>\n",
       "</table>\n",
       "<p>1007912 rows × 9 columns</p>\n",
       "</div>"
      ],
      "text/plain": [
       "         Invoice StockCode                          Description  Quantity  \\\n",
       "0         489434     85048  15CM CHRISTMAS GLASS BALL 20 LIGHTS        12   \n",
       "1         489434    79323P                   PINK CHERRY LIGHTS        12   \n",
       "2         489434    79323W                  WHITE CHERRY LIGHTS        12   \n",
       "3         489434     22041         RECORD FRAME 7\" SINGLE SIZE         48   \n",
       "4         489434     21232       STRAWBERRY CERAMIC TRINKET BOX        24   \n",
       "...          ...       ...                                  ...       ...   \n",
       "1007907   581587     22899         CHILDREN'S APRON DOLLY GIRL          6   \n",
       "1007908   581587     23254        CHILDRENS CUTLERY DOLLY GIRL          4   \n",
       "1007909   581587     23255      CHILDRENS CUTLERY CIRCUS PARADE         4   \n",
       "1007910   581587     22138        BAKING SET 9 PIECE RETROSPOT          3   \n",
       "1007911   581587      POST                              POSTAGE         1   \n",
       "\n",
       "                InvoiceDate  Price  Customer ID         Country  Revenue  \n",
       "0       2009-12-01 07:45:00   6.95        13085  United Kingdom    83.40  \n",
       "1       2009-12-01 07:45:00   6.75        13085  United Kingdom    81.00  \n",
       "2       2009-12-01 07:45:00   6.75        13085  United Kingdom    81.00  \n",
       "3       2009-12-01 07:45:00   2.10        13085  United Kingdom   100.80  \n",
       "4       2009-12-01 07:45:00   1.25        13085  United Kingdom    30.00  \n",
       "...                     ...    ...          ...             ...      ...  \n",
       "1007907 2011-12-09 12:50:00   2.10        12680          France    12.60  \n",
       "1007908 2011-12-09 12:50:00   4.15        12680          France    16.60  \n",
       "1007909 2011-12-09 12:50:00   4.15        12680          France    16.60  \n",
       "1007910 2011-12-09 12:50:00   4.95        12680          France    14.85  \n",
       "1007911 2011-12-09 12:50:00  18.00        12680          France    18.00  \n",
       "\n",
       "[1007912 rows x 9 columns]"
      ]
     },
     "execution_count": 492,
     "metadata": {},
     "output_type": "execute_result"
    }
   ],
   "source": [
    "# Importing our transactional cleaned data\n",
    "\n",
    "trans_df = pd.read_csv('trans_df.csv')\n",
    "trans_df.drop('Unnamed: 0', axis = 1, inplace = True)\n",
    "trans_df.InvoiceDate = pd.to_datetime(trans_df.InvoiceDate)\n",
    "trans_df"
   ]
  },
  {
   "cell_type": "code",
   "execution_count": 655,
   "metadata": {},
   "outputs": [
    {
     "data": {
      "text/plain": [
       "0.22669340180491948"
      ]
     },
     "execution_count": 655,
     "metadata": {},
     "output_type": "execute_result"
    }
   ],
   "source": [
    "# Calculating the percentage of missing customer ID in our data\n",
    "\n",
    "(len(trans_df[trans_df['Customer ID']==-1]['Customer ID']))/len(trans_df['Customer ID'])"
   ]
  },
  {
   "cell_type": "code",
   "execution_count": 656,
   "metadata": {},
   "outputs": [
    {
     "data": {
      "text/plain": [
       "0.15100728863747964"
      ]
     },
     "execution_count": 656,
     "metadata": {},
     "output_type": "execute_result"
    }
   ],
   "source": [
    "# Calculating the percentage of revenue contributed by missing customer ID data.\n",
    "\n",
    "(np.sum(trans_df[trans_df['Customer ID']==-1]['Revenue']))/np.sum(trans_df['Revenue'])"
   ]
  },
  {
   "cell_type": "markdown",
   "metadata": {},
   "source": [
    "\n",
    "a) 22.6% of the transactions data has no customer IDs.\n",
    "\n",
    "b) 15 % of the total revenue is from the customers who does not have any Customer ID associated with them.\n",
    "\n",
    "We can't just rule out the data with no customer ids as they contribute to the revenue."
   ]
  },
  {
   "cell_type": "code",
   "execution_count": 657,
   "metadata": {},
   "outputs": [
    {
     "data": {
      "text/html": [
       "<div>\n",
       "<style scoped>\n",
       "    .dataframe tbody tr th:only-of-type {\n",
       "        vertical-align: middle;\n",
       "    }\n",
       "\n",
       "    .dataframe tbody tr th {\n",
       "        vertical-align: top;\n",
       "    }\n",
       "\n",
       "    .dataframe thead th {\n",
       "        text-align: right;\n",
       "    }\n",
       "</style>\n",
       "<table border=\"1\" class=\"dataframe\">\n",
       "  <thead>\n",
       "    <tr style=\"text-align: right;\">\n",
       "      <th></th>\n",
       "      <th>Invoice</th>\n",
       "      <th>StockCode</th>\n",
       "      <th>Description</th>\n",
       "      <th>Quantity</th>\n",
       "      <th>InvoiceDate</th>\n",
       "      <th>Price</th>\n",
       "      <th>Customer ID</th>\n",
       "      <th>Country</th>\n",
       "      <th>Revenue</th>\n",
       "    </tr>\n",
       "  </thead>\n",
       "  <tbody>\n",
       "    <tr>\n",
       "      <td>0</td>\n",
       "      <td>489434</td>\n",
       "      <td>85048</td>\n",
       "      <td>15CM CHRISTMAS GLASS BALL 20 LIGHTS</td>\n",
       "      <td>12</td>\n",
       "      <td>2009-12-01 07:45:00</td>\n",
       "      <td>6.95</td>\n",
       "      <td>13085</td>\n",
       "      <td>United Kingdom</td>\n",
       "      <td>83.40</td>\n",
       "    </tr>\n",
       "    <tr>\n",
       "      <td>1</td>\n",
       "      <td>489434</td>\n",
       "      <td>79323P</td>\n",
       "      <td>PINK CHERRY LIGHTS</td>\n",
       "      <td>12</td>\n",
       "      <td>2009-12-01 07:45:00</td>\n",
       "      <td>6.75</td>\n",
       "      <td>13085</td>\n",
       "      <td>United Kingdom</td>\n",
       "      <td>81.00</td>\n",
       "    </tr>\n",
       "    <tr>\n",
       "      <td>2</td>\n",
       "      <td>489434</td>\n",
       "      <td>79323W</td>\n",
       "      <td>WHITE CHERRY LIGHTS</td>\n",
       "      <td>12</td>\n",
       "      <td>2009-12-01 07:45:00</td>\n",
       "      <td>6.75</td>\n",
       "      <td>13085</td>\n",
       "      <td>United Kingdom</td>\n",
       "      <td>81.00</td>\n",
       "    </tr>\n",
       "    <tr>\n",
       "      <td>3</td>\n",
       "      <td>489434</td>\n",
       "      <td>22041</td>\n",
       "      <td>RECORD FRAME 7\" SINGLE SIZE</td>\n",
       "      <td>48</td>\n",
       "      <td>2009-12-01 07:45:00</td>\n",
       "      <td>2.10</td>\n",
       "      <td>13085</td>\n",
       "      <td>United Kingdom</td>\n",
       "      <td>100.80</td>\n",
       "    </tr>\n",
       "    <tr>\n",
       "      <td>4</td>\n",
       "      <td>489434</td>\n",
       "      <td>21232</td>\n",
       "      <td>STRAWBERRY CERAMIC TRINKET BOX</td>\n",
       "      <td>24</td>\n",
       "      <td>2009-12-01 07:45:00</td>\n",
       "      <td>1.25</td>\n",
       "      <td>13085</td>\n",
       "      <td>United Kingdom</td>\n",
       "      <td>30.00</td>\n",
       "    </tr>\n",
       "    <tr>\n",
       "      <td>...</td>\n",
       "      <td>...</td>\n",
       "      <td>...</td>\n",
       "      <td>...</td>\n",
       "      <td>...</td>\n",
       "      <td>...</td>\n",
       "      <td>...</td>\n",
       "      <td>...</td>\n",
       "      <td>...</td>\n",
       "      <td>...</td>\n",
       "    </tr>\n",
       "    <tr>\n",
       "      <td>1007907</td>\n",
       "      <td>581587</td>\n",
       "      <td>22899</td>\n",
       "      <td>CHILDREN'S APRON DOLLY GIRL</td>\n",
       "      <td>6</td>\n",
       "      <td>2011-12-09 12:50:00</td>\n",
       "      <td>2.10</td>\n",
       "      <td>12680</td>\n",
       "      <td>France</td>\n",
       "      <td>12.60</td>\n",
       "    </tr>\n",
       "    <tr>\n",
       "      <td>1007908</td>\n",
       "      <td>581587</td>\n",
       "      <td>23254</td>\n",
       "      <td>CHILDRENS CUTLERY DOLLY GIRL</td>\n",
       "      <td>4</td>\n",
       "      <td>2011-12-09 12:50:00</td>\n",
       "      <td>4.15</td>\n",
       "      <td>12680</td>\n",
       "      <td>France</td>\n",
       "      <td>16.60</td>\n",
       "    </tr>\n",
       "    <tr>\n",
       "      <td>1007909</td>\n",
       "      <td>581587</td>\n",
       "      <td>23255</td>\n",
       "      <td>CHILDRENS CUTLERY CIRCUS PARADE</td>\n",
       "      <td>4</td>\n",
       "      <td>2011-12-09 12:50:00</td>\n",
       "      <td>4.15</td>\n",
       "      <td>12680</td>\n",
       "      <td>France</td>\n",
       "      <td>16.60</td>\n",
       "    </tr>\n",
       "    <tr>\n",
       "      <td>1007910</td>\n",
       "      <td>581587</td>\n",
       "      <td>22138</td>\n",
       "      <td>BAKING SET 9 PIECE RETROSPOT</td>\n",
       "      <td>3</td>\n",
       "      <td>2011-12-09 12:50:00</td>\n",
       "      <td>4.95</td>\n",
       "      <td>12680</td>\n",
       "      <td>France</td>\n",
       "      <td>14.85</td>\n",
       "    </tr>\n",
       "    <tr>\n",
       "      <td>1007911</td>\n",
       "      <td>581587</td>\n",
       "      <td>POST</td>\n",
       "      <td>POSTAGE</td>\n",
       "      <td>1</td>\n",
       "      <td>2011-12-09 12:50:00</td>\n",
       "      <td>18.00</td>\n",
       "      <td>12680</td>\n",
       "      <td>France</td>\n",
       "      <td>18.00</td>\n",
       "    </tr>\n",
       "  </tbody>\n",
       "</table>\n",
       "<p>779425 rows × 9 columns</p>\n",
       "</div>"
      ],
      "text/plain": [
       "         Invoice StockCode                          Description  Quantity  \\\n",
       "0         489434     85048  15CM CHRISTMAS GLASS BALL 20 LIGHTS        12   \n",
       "1         489434    79323P                   PINK CHERRY LIGHTS        12   \n",
       "2         489434    79323W                  WHITE CHERRY LIGHTS        12   \n",
       "3         489434     22041         RECORD FRAME 7\" SINGLE SIZE         48   \n",
       "4         489434     21232       STRAWBERRY CERAMIC TRINKET BOX        24   \n",
       "...          ...       ...                                  ...       ...   \n",
       "1007907   581587     22899         CHILDREN'S APRON DOLLY GIRL          6   \n",
       "1007908   581587     23254        CHILDRENS CUTLERY DOLLY GIRL          4   \n",
       "1007909   581587     23255      CHILDRENS CUTLERY CIRCUS PARADE         4   \n",
       "1007910   581587     22138        BAKING SET 9 PIECE RETROSPOT          3   \n",
       "1007911   581587      POST                              POSTAGE         1   \n",
       "\n",
       "                InvoiceDate  Price  Customer ID         Country  Revenue  \n",
       "0       2009-12-01 07:45:00   6.95        13085  United Kingdom    83.40  \n",
       "1       2009-12-01 07:45:00   6.75        13085  United Kingdom    81.00  \n",
       "2       2009-12-01 07:45:00   6.75        13085  United Kingdom    81.00  \n",
       "3       2009-12-01 07:45:00   2.10        13085  United Kingdom   100.80  \n",
       "4       2009-12-01 07:45:00   1.25        13085  United Kingdom    30.00  \n",
       "...                     ...    ...          ...             ...      ...  \n",
       "1007907 2011-12-09 12:50:00   2.10        12680          France    12.60  \n",
       "1007908 2011-12-09 12:50:00   4.15        12680          France    16.60  \n",
       "1007909 2011-12-09 12:50:00   4.15        12680          France    16.60  \n",
       "1007910 2011-12-09 12:50:00   4.95        12680          France    14.85  \n",
       "1007911 2011-12-09 12:50:00  18.00        12680          France    18.00  \n",
       "\n",
       "[779425 rows x 9 columns]"
      ]
     },
     "execution_count": 657,
     "metadata": {},
     "output_type": "execute_result"
    }
   ],
   "source": [
    "# Lets define a new dataframe where we have customer ids available.\n",
    "\n",
    "cust_df = trans_df[trans_df['Customer ID']!=-1]\n",
    "cust_df"
   ]
  },
  {
   "cell_type": "markdown",
   "metadata": {},
   "source": [
    "# BASIC EXPLORATION"
   ]
  },
  {
   "cell_type": "markdown",
   "metadata": {},
   "source": [
    "### Frequently Purchased Products"
   ]
  },
  {
   "cell_type": "code",
   "execution_count": 658,
   "metadata": {},
   "outputs": [
    {
     "data": {
      "text/plain": [
       "Text(0.5, 1.0, 'Frequently Purchased Products')"
      ]
     },
     "execution_count": 658,
     "metadata": {},
     "output_type": "execute_result"
    },
    {
     "data": {
      "image/png": "[encoded data removed]",
      "text/plain": [
       "<Figure size 720x360 with 1 Axes>"
      ]
     },
     "metadata": {
      "needs_background": "light"
     },
     "output_type": "display_data"
    }
   ],
   "source": [
    "# Barplot\n",
    "\n",
    "prod=pd.DataFrame(trans_df['Description'].value_counts().head(10)).sort_values(by='Description')\n",
    "plt.figure(figsize = (10,5))\n",
    "plt.barh(prod.index, prod.Description, color = '#187bc8')\n",
    "plt.xlabel('Times Purchased')\n",
    "plt.title('Frequently Purchased Products')\n"
   ]
  },
  {
   "cell_type": "markdown",
   "metadata": {},
   "source": [
    "### Purchases by time"
   ]
  },
  {
   "cell_type": "code",
   "execution_count": 659,
   "metadata": {},
   "outputs": [
    {
     "data": {
      "text/plain": [
       "Text(0.5, 1.0, 'Hourly Purchases')"
      ]
     },
     "execution_count": 659,
     "metadata": {},
     "output_type": "execute_result"
    },
    {
     "data": {
      "image/png": "[encoded data removed]",
      "text/plain": [
       "<Figure size 720x720 with 4 Axes>"
      ]
     },
     "metadata": {
      "needs_background": "light"
     },
     "output_type": "display_data"
    }
   ],
   "source": [
    "# Subplots by different time subsets.\n",
    "\n",
    "fig, ax = plt.subplots(4,1, constrained_layout = True, figsize=(10,10))\n",
    "sns.countplot(cust_df[['Invoice','InvoiceDate']].drop_duplicates().InvoiceDate.dt.month, color ='#a4c2f4', ax=ax[0])\n",
    "ax[0].set_xlabel('Month')\n",
    "ax[0].set_ylabel('Purchases Made')\n",
    "ax[0].set_title('Monthly Purchases')\n",
    "\n",
    "sns.countplot(cust_df[['Invoice','InvoiceDate']].drop_duplicates().InvoiceDate.dt.day, color ='#b4a7d6', ax=ax[1])\n",
    "ax[1].set_xlabel('Day')\n",
    "ax[1].set_ylabel('Purchases Made')\n",
    "ax[1].set_title('Daily Purchases')\n",
    "\n",
    "sns.countplot(cust_df[['Invoice','InvoiceDate']].drop_duplicates().InvoiceDate.dt.weekday_name, color ='#900c3f', ax=ax[2])\n",
    "ax[2].set_xlabel('Days of Purchase')\n",
    "ax[2].set_ylabel('Purchases Made')\n",
    "ax[2].set_title('Weekday Purchases')\n",
    "\n",
    "sns.countplot(cust_df[['Invoice','InvoiceDate']].drop_duplicates().InvoiceDate.dt.hour, color ='#c70039', ax=ax[3])\n",
    "ax[3].set_xlabel('Hour')\n",
    "ax[3].set_ylabel('Purchases Made')\n",
    "ax[3].set_title('Hourly Purchases')"
   ]
  },
  {
   "cell_type": "markdown",
   "metadata": {},
   "source": [
    "Basic Insights:\n",
    "\n",
    "a) The holidays months have really higher purchases. Gift products do go along with holidays.\n",
    "\n",
    "b) There is no clear correlation among the days of the months and the times of purchases made.\n",
    "\n",
    "c) There are almost no purchases on Saturdays. Strange !\n",
    "\n",
    "d) The purchases are only made between 7 AM to 7 PM. The customer base might be a retail business having standard working hours during which they make purchases."
   ]
  },
  {
   "cell_type": "markdown",
   "metadata": {},
   "source": [
    "### Country"
   ]
  },
  {
   "cell_type": "markdown",
   "metadata": {},
   "source": [
    "### The proportion of purchases made within United Kingdom."
   ]
  },
  {
   "cell_type": "code",
   "execution_count": 663,
   "metadata": {},
   "outputs": [
    {
     "data": {
      "text/plain": [
       "United Kingdom    0.918768\n",
       "Name: Country, dtype: float64"
      ]
     },
     "execution_count": 663,
     "metadata": {},
     "output_type": "execute_result"
    }
   ],
   "source": [
    "trans_df['Country'].value_counts(normalize = True).head(1)"
   ]
  },
  {
   "cell_type": "markdown",
   "metadata": {},
   "source": [
    "Almost 92 % purchases are made within united kingdom itself. The transportation or the shipping cost within the same country is intuitively the best viable option to procure the product supplies."
   ]
  },
  {
   "cell_type": "markdown",
   "metadata": {},
   "source": [
    "# Understanding Customer Metrics"
   ]
  },
  {
   "cell_type": "code",
   "execution_count": 518,
   "metadata": {},
   "outputs": [],
   "source": [
    "# Around 90% of the transactions are from United Kingdom.\n",
    "\n",
    "# Let us filter the united kingdom transactions with known customer IDs.\n",
    "\n",
    "uk_df = trans_df[(trans_df['Country']=='United Kingdom') & (trans_df['Customer ID']!=-1)]\n",
    "uk_df.reset_index(drop=True, inplace = True)"
   ]
  },
  {
   "cell_type": "code",
   "execution_count": 519,
   "metadata": {},
   "outputs": [
    {
     "data": {
      "text/plain": [
       "count    700388.000000\n",
       "mean          3.065463\n",
       "std          25.598485\n",
       "min           0.001000\n",
       "25%           1.250000\n",
       "50%           1.950000\n",
       "75%           3.750000\n",
       "max       10953.500000\n",
       "Name: Price, dtype: float64"
      ]
     },
     "execution_count": 519,
     "metadata": {},
     "output_type": "execute_result"
    }
   ],
   "source": [
    "uk_df['Price'].describe()"
   ]
  },
  {
   "cell_type": "markdown",
   "metadata": {},
   "source": [
    "Around 75% of the products sold have price less than or equal to 3.75. The maximum price of the product sold is 25111."
   ]
  },
  {
   "cell_type": "code",
   "execution_count": 520,
   "metadata": {},
   "outputs": [
    {
     "data": {
      "text/plain": [
       "<matplotlib.axes._subplots.AxesSubplot at 0x1a65ea4390>"
      ]
     },
     "execution_count": 520,
     "metadata": {},
     "output_type": "execute_result"
    },
    {
     "data": {
      "image/png": "[encoded data removed]",
      "text/plain": [
       "<Figure size 432x288 with 1 Axes>"
      ]
     },
     "metadata": {
      "needs_background": "light"
     },
     "output_type": "display_data"
    }
   ],
   "source": [
    "# lets plot a boxplot without statistical outliers\n",
    "\n",
    "sns.boxplot(uk_df['Price'], showfliers = False)"
   ]
  },
  {
   "cell_type": "code",
   "execution_count": 664,
   "metadata": {},
   "outputs": [
    {
     "data": {
      "text/html": [
       "<div>\n",
       "<style scoped>\n",
       "    .dataframe tbody tr th:only-of-type {\n",
       "        vertical-align: middle;\n",
       "    }\n",
       "\n",
       "    .dataframe tbody tr th {\n",
       "        vertical-align: top;\n",
       "    }\n",
       "\n",
       "    .dataframe thead th {\n",
       "        text-align: right;\n",
       "    }\n",
       "</style>\n",
       "<table border=\"1\" class=\"dataframe\">\n",
       "  <thead>\n",
       "    <tr style=\"text-align: right;\">\n",
       "      <th></th>\n",
       "      <th>Invoice</th>\n",
       "      <th>StockCode</th>\n",
       "      <th>Description</th>\n",
       "      <th>Quantity</th>\n",
       "      <th>InvoiceDate</th>\n",
       "      <th>Price</th>\n",
       "      <th>Customer ID</th>\n",
       "      <th>Country</th>\n",
       "      <th>Revenue</th>\n",
       "    </tr>\n",
       "  </thead>\n",
       "  <tbody>\n",
       "    <tr>\n",
       "      <td>0</td>\n",
       "      <td>489434</td>\n",
       "      <td>85048</td>\n",
       "      <td>15CM CHRISTMAS GLASS BALL 20 LIGHTS</td>\n",
       "      <td>12</td>\n",
       "      <td>2009-12-01 07:45:00</td>\n",
       "      <td>6.95</td>\n",
       "      <td>13085</td>\n",
       "      <td>United Kingdom</td>\n",
       "      <td>83.4</td>\n",
       "    </tr>\n",
       "    <tr>\n",
       "      <td>1</td>\n",
       "      <td>489434</td>\n",
       "      <td>79323P</td>\n",
       "      <td>PINK CHERRY LIGHTS</td>\n",
       "      <td>12</td>\n",
       "      <td>2009-12-01 07:45:00</td>\n",
       "      <td>6.75</td>\n",
       "      <td>13085</td>\n",
       "      <td>United Kingdom</td>\n",
       "      <td>81.0</td>\n",
       "    </tr>\n",
       "    <tr>\n",
       "      <td>2</td>\n",
       "      <td>489434</td>\n",
       "      <td>79323W</td>\n",
       "      <td>WHITE CHERRY LIGHTS</td>\n",
       "      <td>12</td>\n",
       "      <td>2009-12-01 07:45:00</td>\n",
       "      <td>6.75</td>\n",
       "      <td>13085</td>\n",
       "      <td>United Kingdom</td>\n",
       "      <td>81.0</td>\n",
       "    </tr>\n",
       "    <tr>\n",
       "      <td>3</td>\n",
       "      <td>489434</td>\n",
       "      <td>22041</td>\n",
       "      <td>RECORD FRAME 7\" SINGLE SIZE</td>\n",
       "      <td>48</td>\n",
       "      <td>2009-12-01 07:45:00</td>\n",
       "      <td>2.10</td>\n",
       "      <td>13085</td>\n",
       "      <td>United Kingdom</td>\n",
       "      <td>100.8</td>\n",
       "    </tr>\n",
       "    <tr>\n",
       "      <td>4</td>\n",
       "      <td>489434</td>\n",
       "      <td>21232</td>\n",
       "      <td>STRAWBERRY CERAMIC TRINKET BOX</td>\n",
       "      <td>24</td>\n",
       "      <td>2009-12-01 07:45:00</td>\n",
       "      <td>1.25</td>\n",
       "      <td>13085</td>\n",
       "      <td>United Kingdom</td>\n",
       "      <td>30.0</td>\n",
       "    </tr>\n",
       "    <tr>\n",
       "      <td>...</td>\n",
       "      <td>...</td>\n",
       "      <td>...</td>\n",
       "      <td>...</td>\n",
       "      <td>...</td>\n",
       "      <td>...</td>\n",
       "      <td>...</td>\n",
       "      <td>...</td>\n",
       "      <td>...</td>\n",
       "      <td>...</td>\n",
       "    </tr>\n",
       "    <tr>\n",
       "      <td>700382</td>\n",
       "      <td>581585</td>\n",
       "      <td>23145</td>\n",
       "      <td>ZINC T-LIGHT HOLDER STAR LARGE</td>\n",
       "      <td>12</td>\n",
       "      <td>2011-12-09 12:31:00</td>\n",
       "      <td>0.95</td>\n",
       "      <td>15804</td>\n",
       "      <td>United Kingdom</td>\n",
       "      <td>11.4</td>\n",
       "    </tr>\n",
       "    <tr>\n",
       "      <td>700383</td>\n",
       "      <td>581585</td>\n",
       "      <td>22466</td>\n",
       "      <td>FAIRY TALE COTTAGE NIGHT LIGHT</td>\n",
       "      <td>12</td>\n",
       "      <td>2011-12-09 12:31:00</td>\n",
       "      <td>1.95</td>\n",
       "      <td>15804</td>\n",
       "      <td>United Kingdom</td>\n",
       "      <td>23.4</td>\n",
       "    </tr>\n",
       "    <tr>\n",
       "      <td>700384</td>\n",
       "      <td>581586</td>\n",
       "      <td>22061</td>\n",
       "      <td>LARGE CAKE STAND  HANGING STRAWBERY</td>\n",
       "      <td>8</td>\n",
       "      <td>2011-12-09 12:49:00</td>\n",
       "      <td>2.95</td>\n",
       "      <td>13113</td>\n",
       "      <td>United Kingdom</td>\n",
       "      <td>23.6</td>\n",
       "    </tr>\n",
       "    <tr>\n",
       "      <td>700385</td>\n",
       "      <td>581586</td>\n",
       "      <td>23275</td>\n",
       "      <td>SET OF 3 HANGING OWLS OLLIE BEAK</td>\n",
       "      <td>24</td>\n",
       "      <td>2011-12-09 12:49:00</td>\n",
       "      <td>1.25</td>\n",
       "      <td>13113</td>\n",
       "      <td>United Kingdom</td>\n",
       "      <td>30.0</td>\n",
       "    </tr>\n",
       "    <tr>\n",
       "      <td>700387</td>\n",
       "      <td>581586</td>\n",
       "      <td>20685</td>\n",
       "      <td>DOORMAT RED RETROSPOT</td>\n",
       "      <td>10</td>\n",
       "      <td>2011-12-09 12:49:00</td>\n",
       "      <td>7.08</td>\n",
       "      <td>13113</td>\n",
       "      <td>United Kingdom</td>\n",
       "      <td>70.8</td>\n",
       "    </tr>\n",
       "  </tbody>\n",
       "</table>\n",
       "<p>657097 rows × 9 columns</p>\n",
       "</div>"
      ],
      "text/plain": [
       "        Invoice StockCode                          Description  Quantity  \\\n",
       "0        489434     85048  15CM CHRISTMAS GLASS BALL 20 LIGHTS        12   \n",
       "1        489434    79323P                   PINK CHERRY LIGHTS        12   \n",
       "2        489434    79323W                  WHITE CHERRY LIGHTS        12   \n",
       "3        489434     22041         RECORD FRAME 7\" SINGLE SIZE         48   \n",
       "4        489434     21232       STRAWBERRY CERAMIC TRINKET BOX        24   \n",
       "...         ...       ...                                  ...       ...   \n",
       "700382   581585     23145       ZINC T-LIGHT HOLDER STAR LARGE        12   \n",
       "700383   581585     22466       FAIRY TALE COTTAGE NIGHT LIGHT        12   \n",
       "700384   581586     22061  LARGE CAKE STAND  HANGING STRAWBERY         8   \n",
       "700385   581586     23275     SET OF 3 HANGING OWLS OLLIE BEAK        24   \n",
       "700387   581586     20685                DOORMAT RED RETROSPOT        10   \n",
       "\n",
       "               InvoiceDate  Price  Customer ID         Country  Revenue  \n",
       "0      2009-12-01 07:45:00   6.95        13085  United Kingdom     83.4  \n",
       "1      2009-12-01 07:45:00   6.75        13085  United Kingdom     81.0  \n",
       "2      2009-12-01 07:45:00   6.75        13085  United Kingdom     81.0  \n",
       "3      2009-12-01 07:45:00   2.10        13085  United Kingdom    100.8  \n",
       "4      2009-12-01 07:45:00   1.25        13085  United Kingdom     30.0  \n",
       "...                    ...    ...          ...             ...      ...  \n",
       "700382 2011-12-09 12:31:00   0.95        15804  United Kingdom     11.4  \n",
       "700383 2011-12-09 12:31:00   1.95        15804  United Kingdom     23.4  \n",
       "700384 2011-12-09 12:49:00   2.95        13113  United Kingdom     23.6  \n",
       "700385 2011-12-09 12:49:00   1.25        13113  United Kingdom     30.0  \n",
       "700387 2011-12-09 12:49:00   7.08        13113  United Kingdom     70.8  \n",
       "\n",
       "[657097 rows x 9 columns]"
      ]
     },
     "execution_count": 664,
     "metadata": {},
     "output_type": "execute_result"
    }
   ],
   "source": [
    "# Making a dataframe of products less than 8 Pounds.\n",
    "\n",
    "low_price_products = uk_df[uk_df['Price'] < 8]\n",
    "low_price_products"
   ]
  },
  {
   "cell_type": "code",
   "execution_count": 522,
   "metadata": {},
   "outputs": [
    {
     "name": "stdout",
     "output_type": "stream",
     "text": [
      "93.82 % of the transactions made were less than 8 pounds.\n"
     ]
    }
   ],
   "source": [
    "low_price_perc = uk_df[uk_df['Price']<=8].shape[0]/uk_df['Price'].shape[0]*100\n",
    "\n",
    "print(\"{:.2f} % of the transactions made were less than 8 pounds.\".format(low_price_perc))"
   ]
  },
  {
   "cell_type": "code",
   "execution_count": 523,
   "metadata": {},
   "outputs": [
    {
     "name": "stdout",
     "output_type": "stream",
     "text": [
      "88.85 % of the revenue is contributed by those products.\n"
     ]
    }
   ],
   "source": [
    "low_price_rev = np.sum(uk_df[uk_df['Price']<=8].Revenue)/np.sum(uk_df.Revenue)*100\n",
    "\n",
    "print(\"{:.2f} % of the revenue is contributed by those products.\".format(low_price_rev))"
   ]
  },
  {
   "cell_type": "markdown",
   "metadata": {},
   "source": [
    "As the prices of the products within our large dataset is too low (8 pounds) and the proportion of those products are too high, any major outlier will hardly skew our mean."
   ]
  },
  {
   "cell_type": "markdown",
   "metadata": {},
   "source": [
    "### Classifying Customers"
   ]
  },
  {
   "cell_type": "code",
   "execution_count": 157,
   "metadata": {},
   "outputs": [
    {
     "name": "stderr",
     "output_type": "stream",
     "text": [
      "/Applications/anaconda3/lib/python3.7/site-packages/pandas/core/indexing.py:376: SettingWithCopyWarning: \n",
      "A value is trying to be set on a copy of a slice from a DataFrame.\n",
      "Try using .loc[row_indexer,col_indexer] = value instead\n",
      "\n",
      "See the caveats in the documentation: http://pandas.pydata.org/pandas-docs/stable/user_guide/indexing.html#returning-a-view-versus-a-copy\n",
      "  self.obj[key] = _infer_fill_value(value)\n",
      "/Applications/anaconda3/lib/python3.7/site-packages/pandas/core/indexing.py:494: SettingWithCopyWarning: \n",
      "A value is trying to be set on a copy of a slice from a DataFrame.\n",
      "Try using .loc[row_indexer,col_indexer] = value instead\n",
      "\n",
      "See the caveats in the documentation: http://pandas.pydata.org/pandas-docs/stable/user_guide/indexing.html#returning-a-view-versus-a-copy\n",
      "  self.obj[item] = s\n"
     ]
    },
    {
     "data": {
      "text/html": [
       "<div>\n",
       "<style scoped>\n",
       "    .dataframe tbody tr th:only-of-type {\n",
       "        vertical-align: middle;\n",
       "    }\n",
       "\n",
       "    .dataframe tbody tr th {\n",
       "        vertical-align: top;\n",
       "    }\n",
       "\n",
       "    .dataframe thead th {\n",
       "        text-align: right;\n",
       "    }\n",
       "</style>\n",
       "<table border=\"1\" class=\"dataframe\">\n",
       "  <thead>\n",
       "    <tr style=\"text-align: right;\">\n",
       "      <th></th>\n",
       "      <th>Invoice</th>\n",
       "      <th>StockCode</th>\n",
       "      <th>Description</th>\n",
       "      <th>Quantity</th>\n",
       "      <th>InvoiceDate</th>\n",
       "      <th>Price</th>\n",
       "      <th>Customer ID</th>\n",
       "      <th>Country</th>\n",
       "      <th>Revenue</th>\n",
       "      <th>Type</th>\n",
       "    </tr>\n",
       "  </thead>\n",
       "  <tbody>\n",
       "    <tr>\n",
       "      <td>0</td>\n",
       "      <td>489434</td>\n",
       "      <td>85048</td>\n",
       "      <td>15CM CHRISTMAS GLASS BALL 20 LIGHTS</td>\n",
       "      <td>12</td>\n",
       "      <td>2009-12-01 07:45:00</td>\n",
       "      <td>6.95</td>\n",
       "      <td>13085</td>\n",
       "      <td>United Kingdom</td>\n",
       "      <td>83.40</td>\n",
       "      <td>New</td>\n",
       "    </tr>\n",
       "    <tr>\n",
       "      <td>1</td>\n",
       "      <td>489435</td>\n",
       "      <td>22350</td>\n",
       "      <td>CAT BOWL</td>\n",
       "      <td>12</td>\n",
       "      <td>2009-12-01 07:46:00</td>\n",
       "      <td>2.55</td>\n",
       "      <td>13085</td>\n",
       "      <td>United Kingdom</td>\n",
       "      <td>30.60</td>\n",
       "      <td>Repeat</td>\n",
       "    </tr>\n",
       "    <tr>\n",
       "      <td>2</td>\n",
       "      <td>489436</td>\n",
       "      <td>48173C</td>\n",
       "      <td>DOOR MAT BLACK FLOCK</td>\n",
       "      <td>10</td>\n",
       "      <td>2009-12-01 09:06:00</td>\n",
       "      <td>5.95</td>\n",
       "      <td>13078</td>\n",
       "      <td>United Kingdom</td>\n",
       "      <td>59.50</td>\n",
       "      <td>New</td>\n",
       "    </tr>\n",
       "    <tr>\n",
       "      <td>3</td>\n",
       "      <td>489437</td>\n",
       "      <td>22143</td>\n",
       "      <td>CHRISTMAS CRAFT HEART DECORATIONS</td>\n",
       "      <td>6</td>\n",
       "      <td>2009-12-01 09:08:00</td>\n",
       "      <td>2.10</td>\n",
       "      <td>15362</td>\n",
       "      <td>United Kingdom</td>\n",
       "      <td>12.60</td>\n",
       "      <td>New</td>\n",
       "    </tr>\n",
       "    <tr>\n",
       "      <td>4</td>\n",
       "      <td>489438</td>\n",
       "      <td>21329</td>\n",
       "      <td>DINOSAURS  WRITING SET</td>\n",
       "      <td>28</td>\n",
       "      <td>2009-12-01 09:24:00</td>\n",
       "      <td>0.98</td>\n",
       "      <td>18102</td>\n",
       "      <td>United Kingdom</td>\n",
       "      <td>27.44</td>\n",
       "      <td>New</td>\n",
       "    </tr>\n",
       "    <tr>\n",
       "      <td>...</td>\n",
       "      <td>...</td>\n",
       "      <td>...</td>\n",
       "      <td>...</td>\n",
       "      <td>...</td>\n",
       "      <td>...</td>\n",
       "      <td>...</td>\n",
       "      <td>...</td>\n",
       "      <td>...</td>\n",
       "      <td>...</td>\n",
       "      <td>...</td>\n",
       "    </tr>\n",
       "    <tr>\n",
       "      <td>33536</td>\n",
       "      <td>581582</td>\n",
       "      <td>23552</td>\n",
       "      <td>BICYCLE PUNCTURE REPAIR KIT</td>\n",
       "      <td>6</td>\n",
       "      <td>2011-12-09 12:21:00</td>\n",
       "      <td>2.08</td>\n",
       "      <td>17581</td>\n",
       "      <td>United Kingdom</td>\n",
       "      <td>12.48</td>\n",
       "      <td>Repeat</td>\n",
       "    </tr>\n",
       "    <tr>\n",
       "      <td>33537</td>\n",
       "      <td>581583</td>\n",
       "      <td>20725</td>\n",
       "      <td>LUNCH BAG RED RETROSPOT</td>\n",
       "      <td>40</td>\n",
       "      <td>2011-12-09 12:23:00</td>\n",
       "      <td>1.45</td>\n",
       "      <td>13777</td>\n",
       "      <td>United Kingdom</td>\n",
       "      <td>58.00</td>\n",
       "      <td>Repeat</td>\n",
       "    </tr>\n",
       "    <tr>\n",
       "      <td>33538</td>\n",
       "      <td>581584</td>\n",
       "      <td>20832</td>\n",
       "      <td>RED FLOCK LOVE HEART PHOTO FRAME</td>\n",
       "      <td>72</td>\n",
       "      <td>2011-12-09 12:25:00</td>\n",
       "      <td>0.72</td>\n",
       "      <td>13777</td>\n",
       "      <td>United Kingdom</td>\n",
       "      <td>51.84</td>\n",
       "      <td>Repeat</td>\n",
       "    </tr>\n",
       "    <tr>\n",
       "      <td>33539</td>\n",
       "      <td>581585</td>\n",
       "      <td>22481</td>\n",
       "      <td>BLACK TEA TOWEL CLASSIC DESIGN</td>\n",
       "      <td>12</td>\n",
       "      <td>2011-12-09 12:31:00</td>\n",
       "      <td>0.39</td>\n",
       "      <td>15804</td>\n",
       "      <td>United Kingdom</td>\n",
       "      <td>4.68</td>\n",
       "      <td>Repeat</td>\n",
       "    </tr>\n",
       "    <tr>\n",
       "      <td>33540</td>\n",
       "      <td>581586</td>\n",
       "      <td>22061</td>\n",
       "      <td>LARGE CAKE STAND  HANGING STRAWBERY</td>\n",
       "      <td>8</td>\n",
       "      <td>2011-12-09 12:49:00</td>\n",
       "      <td>2.95</td>\n",
       "      <td>13113</td>\n",
       "      <td>United Kingdom</td>\n",
       "      <td>23.60</td>\n",
       "      <td>Repeat</td>\n",
       "    </tr>\n",
       "  </tbody>\n",
       "</table>\n",
       "<p>33541 rows × 10 columns</p>\n",
       "</div>"
      ],
      "text/plain": [
       "       Invoice StockCode                          Description  Quantity  \\\n",
       "0       489434     85048  15CM CHRISTMAS GLASS BALL 20 LIGHTS        12   \n",
       "1       489435     22350                            CAT BOWL         12   \n",
       "2       489436    48173C                DOOR MAT BLACK FLOCK         10   \n",
       "3       489437     22143    CHRISTMAS CRAFT HEART DECORATIONS         6   \n",
       "4       489438     21329              DINOSAURS  WRITING SET         28   \n",
       "...        ...       ...                                  ...       ...   \n",
       "33536   581582     23552         BICYCLE PUNCTURE REPAIR KIT          6   \n",
       "33537   581583     20725              LUNCH BAG RED RETROSPOT        40   \n",
       "33538   581584     20832     RED FLOCK LOVE HEART PHOTO FRAME        72   \n",
       "33539   581585     22481       BLACK TEA TOWEL CLASSIC DESIGN        12   \n",
       "33540   581586     22061  LARGE CAKE STAND  HANGING STRAWBERY         8   \n",
       "\n",
       "              InvoiceDate  Price  Customer ID         Country  Revenue    Type  \n",
       "0     2009-12-01 07:45:00   6.95        13085  United Kingdom    83.40     New  \n",
       "1     2009-12-01 07:46:00   2.55        13085  United Kingdom    30.60  Repeat  \n",
       "2     2009-12-01 09:06:00   5.95        13078  United Kingdom    59.50     New  \n",
       "3     2009-12-01 09:08:00   2.10        15362  United Kingdom    12.60     New  \n",
       "4     2009-12-01 09:24:00   0.98        18102  United Kingdom    27.44     New  \n",
       "...                   ...    ...          ...             ...      ...     ...  \n",
       "33536 2011-12-09 12:21:00   2.08        17581  United Kingdom    12.48  Repeat  \n",
       "33537 2011-12-09 12:23:00   1.45        13777  United Kingdom    58.00  Repeat  \n",
       "33538 2011-12-09 12:25:00   0.72        13777  United Kingdom    51.84  Repeat  \n",
       "33539 2011-12-09 12:31:00   0.39        15804  United Kingdom     4.68  Repeat  \n",
       "33540 2011-12-09 12:49:00   2.95        13113  United Kingdom    23.60  Repeat  \n",
       "\n",
       "[33541 rows x 10 columns]"
      ]
     },
     "execution_count": 157,
     "metadata": {},
     "output_type": "execute_result"
    }
   ],
   "source": [
    "# Classifying Customers as New and Returning\n",
    "\n",
    "# Based on any determined time period such as Daily, Weekly or Yearly, we can classify them as new or loyal.\n",
    "\n",
    "# Lets classify the customers based on months. \n",
    "\n",
    "cust_type=uk_df.drop_duplicates(['Invoice','Customer ID'])\n",
    "cust_type.reset_index(drop=True, inplace = True)\n",
    "cust_type.loc[:,'Type']=np.nan\n",
    "\n",
    "\n",
    "for cust in cust_type['Customer ID'].unique():\n",
    "    cust_type.loc[cust_type[cust_type['Customer ID']==cust].index,'Type']='Repeat'\n",
    "    cust_type.loc[cust_type[cust_type['Customer ID']==cust].index[0],'Type']='New'\n",
    "\n",
    "cust_type"
   ]
  },
  {
   "cell_type": "markdown",
   "metadata": {},
   "source": [
    "### Customer Retention and Customer Acquisition Rate"
   ]
  },
  {
   "cell_type": "code",
   "execution_count": 665,
   "metadata": {},
   "outputs": [
    {
     "data": {
      "text/plain": [
       "Text(0.5, 1.0, 'Customer Retention Rate vs Customer Acquisition Rate')"
      ]
     },
     "execution_count": 665,
     "metadata": {},
     "output_type": "execute_result"
    },
    {
     "data": {
      "image/png": "[encoded data removed]",
      "text/plain": [
       "<Figure size 720x360 with 1 Axes>"
      ]
     },
     "metadata": {
      "needs_background": "light"
     },
     "output_type": "display_data"
    }
   ],
   "source": [
    "# Creating a new column for date time (Year-month)\n",
    "\n",
    "cust_type.loc[:,'YM']=cust_type.InvoiceDate.dt.strftime(\"%Y-%m\")\n",
    "\n",
    "# Creating a dataframe from dictionary of monthly new and repeat customers\n",
    "\n",
    "time = {}\n",
    "for date in cust_type['YM'].unique():\n",
    "    time[date]=(cust_type[cust_type['YM']==date].drop_duplicates(['Customer ID','Type'])['Type'].value_counts())\n",
    "monthly_cust=pd.DataFrame(time).transpose()\n",
    "\n",
    "#Plotting the line plot\n",
    "\n",
    "plt.figure(figsize=(10,5))\n",
    "plt.plot(monthly_cust['New']/(monthly_cust['New']+monthly_cust['Repeat']))\n",
    "plt.plot(monthly_cust['Repeat']/(monthly_cust['New']+monthly_cust['Repeat']))\n",
    "plt.legend(['Customer Acquisition Rate','Customer Retention Rate'])\n",
    "plt.xlabel('Months')\n",
    "plt.ylabel('Percentage of Customers')\n",
    "plt.xticks(rotation = 45)\n",
    "plt.title('Customer Retention Rate vs Customer Acquisition Rate')"
   ]
  },
  {
   "cell_type": "markdown",
   "metadata": {},
   "source": [
    "As per our dataset assumption, suppose the store started it's operations from Dec 2009. The existing customers seem to increasingly buy products as the time passed. However, evidently, the store has been inadequate in successfully acquiring new customers. \n",
    "\n",
    "The store seems to attract its previous customers effectively. Especially during the holiday months of November and December, as the demand for the gift products increases, the retailers customers look for a trustworthy and an already known supplier. This suggests why the repeat customer rate is highest during that time of the year.\n",
    "\n",
    "Stores having a wide variety of products catalogue tend to have a higher repeat order rate. Customers have varied options to choose from the products offering, increasing the repeat purchases."
   ]
  },
  {
   "cell_type": "code",
   "execution_count": 666,
   "metadata": {},
   "outputs": [
    {
     "data": {
      "text/html": [
       "<div>\n",
       "<style scoped>\n",
       "    .dataframe tbody tr th:only-of-type {\n",
       "        vertical-align: middle;\n",
       "    }\n",
       "\n",
       "    .dataframe tbody tr th {\n",
       "        vertical-align: top;\n",
       "    }\n",
       "\n",
       "    .dataframe thead th {\n",
       "        text-align: right;\n",
       "    }\n",
       "</style>\n",
       "<table border=\"1\" class=\"dataframe\">\n",
       "  <thead>\n",
       "    <tr style=\"text-align: right;\">\n",
       "      <th></th>\n",
       "      <th>Invoice</th>\n",
       "      <th>StockCode_x</th>\n",
       "      <th>Description_x</th>\n",
       "      <th>Quantity_x</th>\n",
       "      <th>InvoiceDate_x</th>\n",
       "      <th>Price_x</th>\n",
       "      <th>Customer ID_x</th>\n",
       "      <th>Country_x</th>\n",
       "      <th>Revenue_x</th>\n",
       "      <th>StockCode_y</th>\n",
       "      <th>Description_y</th>\n",
       "      <th>Quantity_y</th>\n",
       "      <th>InvoiceDate_y</th>\n",
       "      <th>Price_y</th>\n",
       "      <th>Customer ID_y</th>\n",
       "      <th>Country_y</th>\n",
       "      <th>Revenue_y</th>\n",
       "      <th>Type</th>\n",
       "      <th>YM</th>\n",
       "    </tr>\n",
       "  </thead>\n",
       "  <tbody>\n",
       "    <tr>\n",
       "      <td>0</td>\n",
       "      <td>489434</td>\n",
       "      <td>85048</td>\n",
       "      <td>15CM CHRISTMAS GLASS BALL 20 LIGHTS</td>\n",
       "      <td>12</td>\n",
       "      <td>2009-12-01 07:45:00</td>\n",
       "      <td>6.95</td>\n",
       "      <td>13085</td>\n",
       "      <td>United Kingdom</td>\n",
       "      <td>83.4</td>\n",
       "      <td>85048</td>\n",
       "      <td>15CM CHRISTMAS GLASS BALL 20 LIGHTS</td>\n",
       "      <td>12</td>\n",
       "      <td>2009-12-01 07:45:00</td>\n",
       "      <td>6.95</td>\n",
       "      <td>13085</td>\n",
       "      <td>United Kingdom</td>\n",
       "      <td>83.4</td>\n",
       "      <td>New</td>\n",
       "      <td>2009-12</td>\n",
       "    </tr>\n",
       "    <tr>\n",
       "      <td>1</td>\n",
       "      <td>489434</td>\n",
       "      <td>79323P</td>\n",
       "      <td>PINK CHERRY LIGHTS</td>\n",
       "      <td>12</td>\n",
       "      <td>2009-12-01 07:45:00</td>\n",
       "      <td>6.75</td>\n",
       "      <td>13085</td>\n",
       "      <td>United Kingdom</td>\n",
       "      <td>81.0</td>\n",
       "      <td>85048</td>\n",
       "      <td>15CM CHRISTMAS GLASS BALL 20 LIGHTS</td>\n",
       "      <td>12</td>\n",
       "      <td>2009-12-01 07:45:00</td>\n",
       "      <td>6.95</td>\n",
       "      <td>13085</td>\n",
       "      <td>United Kingdom</td>\n",
       "      <td>83.4</td>\n",
       "      <td>New</td>\n",
       "      <td>2009-12</td>\n",
       "    </tr>\n",
       "    <tr>\n",
       "      <td>2</td>\n",
       "      <td>489434</td>\n",
       "      <td>79323W</td>\n",
       "      <td>WHITE CHERRY LIGHTS</td>\n",
       "      <td>12</td>\n",
       "      <td>2009-12-01 07:45:00</td>\n",
       "      <td>6.75</td>\n",
       "      <td>13085</td>\n",
       "      <td>United Kingdom</td>\n",
       "      <td>81.0</td>\n",
       "      <td>85048</td>\n",
       "      <td>15CM CHRISTMAS GLASS BALL 20 LIGHTS</td>\n",
       "      <td>12</td>\n",
       "      <td>2009-12-01 07:45:00</td>\n",
       "      <td>6.95</td>\n",
       "      <td>13085</td>\n",
       "      <td>United Kingdom</td>\n",
       "      <td>83.4</td>\n",
       "      <td>New</td>\n",
       "      <td>2009-12</td>\n",
       "    </tr>\n",
       "    <tr>\n",
       "      <td>3</td>\n",
       "      <td>489434</td>\n",
       "      <td>22041</td>\n",
       "      <td>RECORD FRAME 7\" SINGLE SIZE</td>\n",
       "      <td>48</td>\n",
       "      <td>2009-12-01 07:45:00</td>\n",
       "      <td>2.10</td>\n",
       "      <td>13085</td>\n",
       "      <td>United Kingdom</td>\n",
       "      <td>100.8</td>\n",
       "      <td>85048</td>\n",
       "      <td>15CM CHRISTMAS GLASS BALL 20 LIGHTS</td>\n",
       "      <td>12</td>\n",
       "      <td>2009-12-01 07:45:00</td>\n",
       "      <td>6.95</td>\n",
       "      <td>13085</td>\n",
       "      <td>United Kingdom</td>\n",
       "      <td>83.4</td>\n",
       "      <td>New</td>\n",
       "      <td>2009-12</td>\n",
       "    </tr>\n",
       "    <tr>\n",
       "      <td>4</td>\n",
       "      <td>489434</td>\n",
       "      <td>21232</td>\n",
       "      <td>STRAWBERRY CERAMIC TRINKET BOX</td>\n",
       "      <td>24</td>\n",
       "      <td>2009-12-01 07:45:00</td>\n",
       "      <td>1.25</td>\n",
       "      <td>13085</td>\n",
       "      <td>United Kingdom</td>\n",
       "      <td>30.0</td>\n",
       "      <td>85048</td>\n",
       "      <td>15CM CHRISTMAS GLASS BALL 20 LIGHTS</td>\n",
       "      <td>12</td>\n",
       "      <td>2009-12-01 07:45:00</td>\n",
       "      <td>6.95</td>\n",
       "      <td>13085</td>\n",
       "      <td>United Kingdom</td>\n",
       "      <td>83.4</td>\n",
       "      <td>New</td>\n",
       "      <td>2009-12</td>\n",
       "    </tr>\n",
       "  </tbody>\n",
       "</table>\n",
       "</div>"
      ],
      "text/plain": [
       "   Invoice StockCode_x                        Description_x  Quantity_x  \\\n",
       "0   489434       85048  15CM CHRISTMAS GLASS BALL 20 LIGHTS          12   \n",
       "1   489434      79323P                   PINK CHERRY LIGHTS          12   \n",
       "2   489434      79323W                  WHITE CHERRY LIGHTS          12   \n",
       "3   489434       22041         RECORD FRAME 7\" SINGLE SIZE           48   \n",
       "4   489434       21232       STRAWBERRY CERAMIC TRINKET BOX          24   \n",
       "\n",
       "        InvoiceDate_x  Price_x  Customer ID_x       Country_x  Revenue_x  \\\n",
       "0 2009-12-01 07:45:00     6.95          13085  United Kingdom       83.4   \n",
       "1 2009-12-01 07:45:00     6.75          13085  United Kingdom       81.0   \n",
       "2 2009-12-01 07:45:00     6.75          13085  United Kingdom       81.0   \n",
       "3 2009-12-01 07:45:00     2.10          13085  United Kingdom      100.8   \n",
       "4 2009-12-01 07:45:00     1.25          13085  United Kingdom       30.0   \n",
       "\n",
       "  StockCode_y                        Description_y  Quantity_y  \\\n",
       "0       85048  15CM CHRISTMAS GLASS BALL 20 LIGHTS          12   \n",
       "1       85048  15CM CHRISTMAS GLASS BALL 20 LIGHTS          12   \n",
       "2       85048  15CM CHRISTMAS GLASS BALL 20 LIGHTS          12   \n",
       "3       85048  15CM CHRISTMAS GLASS BALL 20 LIGHTS          12   \n",
       "4       85048  15CM CHRISTMAS GLASS BALL 20 LIGHTS          12   \n",
       "\n",
       "        InvoiceDate_y  Price_y  Customer ID_y       Country_y  Revenue_y Type  \\\n",
       "0 2009-12-01 07:45:00     6.95          13085  United Kingdom       83.4  New   \n",
       "1 2009-12-01 07:45:00     6.95          13085  United Kingdom       83.4  New   \n",
       "2 2009-12-01 07:45:00     6.95          13085  United Kingdom       83.4  New   \n",
       "3 2009-12-01 07:45:00     6.95          13085  United Kingdom       83.4  New   \n",
       "4 2009-12-01 07:45:00     6.95          13085  United Kingdom       83.4  New   \n",
       "\n",
       "        YM  \n",
       "0  2009-12  \n",
       "1  2009-12  \n",
       "2  2009-12  \n",
       "3  2009-12  \n",
       "4  2009-12  "
      ]
     },
     "execution_count": 666,
     "metadata": {},
     "output_type": "execute_result"
    }
   ],
   "source": [
    "#Joining our two datasets\n",
    "\n",
    "join = pd.merge(uk_df, cust_type, how = 'inner', on = 'Invoice')\n",
    "join.head()"
   ]
  },
  {
   "cell_type": "markdown",
   "metadata": {},
   "source": [
    "### Average Order Value"
   ]
  },
  {
   "cell_type": "code",
   "execution_count": 667,
   "metadata": {},
   "outputs": [
    {
     "data": {
      "text/plain": [
       "(0, 1000)"
      ]
     },
     "execution_count": 667,
     "metadata": {},
     "output_type": "execute_result"
    },
    {
     "data": {
      "image/png": "[encoded data removed]",
      "text/plain": [
       "<Figure size 720x360 with 1 Axes>"
      ]
     },
     "metadata": {
      "needs_background": "light"
     },
     "output_type": "display_data"
    }
   ],
   "source": [
    "# Monthly Average Order Value (Line)\n",
    "\n",
    "aov = (join.groupby(['YM','Type']).Revenue_x.sum().unstack()/join.groupby(['YM','Type']).Invoice.nunique().unstack())\n",
    "plt.figure(figsize=(10,5))\n",
    "plt.plot(aov, )\n",
    "plt.legend(['New', 'Repeat'])\n",
    "plt.xlabel('Months')\n",
    "plt.ylabel('Average Order Value')\n",
    "plt.xticks(rotation = 45)\n",
    "plt.title('MONTHLY AVERAGE ORDER VALUE')\n",
    "plt.ylim(0,1000)"
   ]
  },
  {
   "cell_type": "code",
   "execution_count": 269,
   "metadata": {},
   "outputs": [
    {
     "data": {
      "text/plain": [
       "Text(0.5, 1.0, 'MONTHLY AVERAGE ORDER VALUE')"
      ]
     },
     "execution_count": 269,
     "metadata": {},
     "output_type": "execute_result"
    },
    {
     "data": {
      "image/png": "[encoded data removed]",
      "text/plain": [
       "<Figure size 432x288 with 1 Axes>"
      ]
     },
     "metadata": {
      "needs_background": "light"
     },
     "output_type": "display_data"
    }
   ],
   "source": [
    "# Monthly Average Order Value (Barplot)\n",
    "\n",
    "ym_type = join.groupby(['YM','Type']).Revenue_x.sum().unstack()/join.groupby(['YM','Type']).Invoice.nunique().unstack()\n",
    "sns.boxplot(x='Type', y='value', data = pd.melt(ym_type))\n",
    "plt.xlabel('Customer Type')\n",
    "plt.ylabel('Average Order Value')\n",
    "plt.title('MONTHLY AVERAGE ORDER VALUE')"
   ]
  },
  {
   "cell_type": "markdown",
   "metadata": {},
   "source": [
    "## Customer Lifetime Value"
   ]
  },
  {
   "cell_type": "markdown",
   "metadata": {},
   "source": [
    "### Average Order Size (AOS)"
   ]
  },
  {
   "cell_type": "markdown",
   "metadata": {},
   "source": [
    "\"The average order size (AOS) is the average amount of money that a customer spends each time they place an order. The average order size is calculated by calculating your total customer revenue for a given period and dividing the total orders performed by these customers to calculate your average order size.\""
   ]
  },
  {
   "cell_type": "code",
   "execution_count": 625,
   "metadata": {},
   "outputs": [
    {
     "data": {
      "text/plain": [
       "429.0043504069646"
      ]
     },
     "execution_count": 625,
     "metadata": {},
     "output_type": "execute_result"
    }
   ],
   "source": [
    "aos = join.Revenue_x.sum()/len(join['Invoice'].unique())\n",
    "aos"
   ]
  },
  {
   "cell_type": "markdown",
   "metadata": {},
   "source": [
    "The bill value per transaction is around 429 pounds. "
   ]
  },
  {
   "cell_type": "markdown",
   "metadata": {},
   "source": [
    "### Average Order Frequency (AOF) "
   ]
  },
  {
   "cell_type": "markdown",
   "metadata": {},
   "source": [
    "\n",
    "\"The average order frequency (AOF) represents the average amount of orders placed by each customer. Your average order frequency (AOF) is calculated by compiling the total number of orders for a given period and dividing it by the total number of customers for a given period.\""
   ]
  },
  {
   "cell_type": "code",
   "execution_count": 630,
   "metadata": {},
   "outputs": [
    {
     "name": "stdout",
     "output_type": "stream",
     "text": [
      "6.27 Pounds\n"
     ]
    }
   ],
   "source": [
    "aof = (len(join['Invoice'].unique()))/(len(join['Customer ID_x'].unique()))\n",
    "print(\"{:.2f} Pounds\".format(aof))"
   ]
  },
  {
   "cell_type": "markdown",
   "metadata": {},
   "source": [
    "### Average Customer Value (ACV)"
   ]
  },
  {
   "cell_type": "markdown",
   "metadata": {},
   "source": [
    "\n",
    "\"The average customer value (ACV) is the average revenue value that each customer brings to your business during a given timeframe. The average customer value can be determined by multiplying the average order size (AOS) with the average order frequency (AOF).\"\n",
    "\n"
   ]
  },
  {
   "cell_type": "code",
   "execution_count": 634,
   "metadata": {},
   "outputs": [
    {
     "name": "stdout",
     "output_type": "stream",
     "text": [
      "Average Customer Value Per Year is 1344.79 Pounds.\n"
     ]
    }
   ],
   "source": [
    "# Dividing by two as we have two years of data.\n",
    "\n",
    "acv = (aos*aof)/2\n",
    "print(\"Average Customer Value Per Year is {:.2f} Pounds.\".format(acv))"
   ]
  },
  {
   "cell_type": "markdown",
   "metadata": {},
   "source": [
    "### Average Customer Lifespan (ACL)"
   ]
  },
  {
   "cell_type": "markdown",
   "metadata": {},
   "source": [
    "\n",
    "\"The average customer lifespan is the average number of days between first order date and last order date of all of your customers. Convert the average number of days into years by dividing your number by 365.\"\n"
   ]
  },
  {
   "cell_type": "code",
   "execution_count": 635,
   "metadata": {},
   "outputs": [
    {
     "data": {
      "text/plain": [
       "1475507"
      ]
     },
     "execution_count": 635,
     "metadata": {},
     "output_type": "execute_result"
    }
   ],
   "source": [
    "total_days = np.sum((cust_type.groupby('Customer ID').InvoiceDate.max() - cust_type.groupby('Customer ID').InvoiceDate.min()).dt.days)\n",
    "total_days"
   ]
  },
  {
   "cell_type": "code",
   "execution_count": 636,
   "metadata": {},
   "outputs": [
    {
     "data": {
      "text/plain": [
       "5350"
      ]
     },
     "execution_count": 636,
     "metadata": {},
     "output_type": "execute_result"
    }
   ],
   "source": [
    "total_cust = len(cust_type['Customer ID'].unique())\n",
    "total_cust"
   ]
  },
  {
   "cell_type": "code",
   "execution_count": 641,
   "metadata": {},
   "outputs": [
    {
     "name": "stdout",
     "output_type": "stream",
     "text": [
      "Average Customer Lifespan Per Year is 0.76.\n"
     ]
    }
   ],
   "source": [
    "acl = (total_days/total_cust)/365\n",
    "print(\"Average Customer Lifespan Per Year is {:.2f}.\".format(acl))"
   ]
  },
  {
   "cell_type": "markdown",
   "metadata": {},
   "source": [
    "### Customer Lifetime Value (CLV)"
   ]
  },
  {
   "cell_type": "markdown",
   "metadata": {},
   "source": [
    "\n",
    "\"To calculate your average customer lifetime value (CLV) using this simple method, multiply your average customer lifespan (ACL) to your average customer value (ACV).\""
   ]
  },
  {
   "cell_type": "code",
   "execution_count": 643,
   "metadata": {},
   "outputs": [
    {
     "name": "stdout",
     "output_type": "stream",
     "text": [
      "Average Customer Lifetime Value is 1016.13.\n"
     ]
    }
   ],
   "source": [
    "clv = acl*acv\n",
    "print(\"Average Customer Lifetime Value is {:.2f}.\".format(clv))"
   ]
  },
  {
   "cell_type": "markdown",
   "metadata": {},
   "source": [
    "Customer Lifetime Value calculation is different for every use case. In our case, we have used the simplest formula to calculate the average customer lifetime value. In a nutshell, the more purchases the customers makes the more loyal the customer becomes, increasing the customer lifetime value.\n",
    "   \n",
    "a) The average customer lifetime value per year comes to be around 1016 pounds. In this case, the average cost of acquisition or average cost of serving one customer per year needs to be way below 1016, in order to be profitable.\n",
    "\n",
    "b) In our case, there are many non repeating customers. By simply converting them to make repeat purchases with average order size can result in the increase of the lifetime value.\n",
    "\n",
    "c) Similarly, increasing the average order size of the customers can also result in higher clv.\n"
   ]
  },
  {
   "cell_type": "markdown",
   "metadata": {},
   "source": [
    "### CLV for Loyal Customer"
   ]
  },
  {
   "cell_type": "markdown",
   "metadata": {},
   "source": [
    "#### Lets calculate CLV for customers who made more than one purchase. (Repeat Purchase)"
   ]
  },
  {
   "cell_type": "code",
   "execution_count": 569,
   "metadata": {},
   "outputs": [
    {
     "data": {
      "text/plain": [
       "Customer ID\n",
       "12346    34565220.0\n",
       "12608           0.0\n",
       "12745     7579440.0\n",
       "12746           0.0\n",
       "12747    63076260.0\n",
       "            ...    \n",
       "18283    56573160.0\n",
       "18284           0.0\n",
       "18285           0.0\n",
       "18286    21345120.0\n",
       "18287    45696840.0\n",
       "Name: InvoiceDate, Length: 5350, dtype: float64"
      ]
     },
     "execution_count": 569,
     "metadata": {},
     "output_type": "execute_result"
    }
   ],
   "source": [
    "# Calculating difference in max and min purchases dats for each customer\n",
    "\n",
    "days_diff = (cust_type.groupby('Customer ID').InvoiceDate.max() - cust_type.groupby('Customer ID').InvoiceDate.min()).dt.total_seconds()\n",
    "days_diff"
   ]
  },
  {
   "cell_type": "code",
   "execution_count": 593,
   "metadata": {},
   "outputs": [
    {
     "data": {
      "text/plain": [
       "Int64Index([12346, 12745, 12747, 12748, 12749, 12820, 12821, 12822, 12823,\n",
       "            12825,\n",
       "            ...\n",
       "            18275, 18276, 18277, 18278, 18280, 18281, 18282, 18283, 18286,\n",
       "            18287],\n",
       "           dtype='int64', name='Customer ID', length=3874)"
      ]
     },
     "execution_count": 593,
     "metadata": {},
     "output_type": "execute_result"
    }
   ],
   "source": [
    "# For repeat customers the difference between maximun and minimum purchase dates will not be zero\n",
    "\n",
    "days_diff[days_diff != 0.0].index"
   ]
  },
  {
   "cell_type": "code",
   "execution_count": 594,
   "metadata": {},
   "outputs": [
    {
     "data": {
      "text/html": [
       "<div>\n",
       "<style scoped>\n",
       "    .dataframe tbody tr th:only-of-type {\n",
       "        vertical-align: middle;\n",
       "    }\n",
       "\n",
       "    .dataframe tbody tr th {\n",
       "        vertical-align: top;\n",
       "    }\n",
       "\n",
       "    .dataframe thead th {\n",
       "        text-align: right;\n",
       "    }\n",
       "</style>\n",
       "<table border=\"1\" class=\"dataframe\">\n",
       "  <thead>\n",
       "    <tr style=\"text-align: right;\">\n",
       "      <th></th>\n",
       "      <th>Invoice</th>\n",
       "      <th>StockCode_x</th>\n",
       "      <th>Description_x</th>\n",
       "      <th>Quantity_x</th>\n",
       "      <th>InvoiceDate_x</th>\n",
       "      <th>Price_x</th>\n",
       "      <th>Customer ID_x</th>\n",
       "      <th>Country_x</th>\n",
       "      <th>Revenue_x</th>\n",
       "      <th>StockCode_y</th>\n",
       "      <th>Description_y</th>\n",
       "      <th>Quantity_y</th>\n",
       "      <th>InvoiceDate_y</th>\n",
       "      <th>Price_y</th>\n",
       "      <th>Customer ID_y</th>\n",
       "      <th>Country_y</th>\n",
       "      <th>Revenue_y</th>\n",
       "      <th>Type</th>\n",
       "      <th>YM</th>\n",
       "    </tr>\n",
       "  </thead>\n",
       "  <tbody>\n",
       "    <tr>\n",
       "      <td>0</td>\n",
       "      <td>489434</td>\n",
       "      <td>85048</td>\n",
       "      <td>15CM CHRISTMAS GLASS BALL 20 LIGHTS</td>\n",
       "      <td>12</td>\n",
       "      <td>2009-12-01 07:45:00</td>\n",
       "      <td>6.95</td>\n",
       "      <td>13085</td>\n",
       "      <td>United Kingdom</td>\n",
       "      <td>83.4</td>\n",
       "      <td>85048</td>\n",
       "      <td>15CM CHRISTMAS GLASS BALL 20 LIGHTS</td>\n",
       "      <td>12</td>\n",
       "      <td>2009-12-01 07:45:00</td>\n",
       "      <td>6.95</td>\n",
       "      <td>13085</td>\n",
       "      <td>United Kingdom</td>\n",
       "      <td>83.40</td>\n",
       "      <td>New</td>\n",
       "      <td>2009-12</td>\n",
       "    </tr>\n",
       "    <tr>\n",
       "      <td>1</td>\n",
       "      <td>489434</td>\n",
       "      <td>79323P</td>\n",
       "      <td>PINK CHERRY LIGHTS</td>\n",
       "      <td>12</td>\n",
       "      <td>2009-12-01 07:45:00</td>\n",
       "      <td>6.75</td>\n",
       "      <td>13085</td>\n",
       "      <td>United Kingdom</td>\n",
       "      <td>81.0</td>\n",
       "      <td>85048</td>\n",
       "      <td>15CM CHRISTMAS GLASS BALL 20 LIGHTS</td>\n",
       "      <td>12</td>\n",
       "      <td>2009-12-01 07:45:00</td>\n",
       "      <td>6.95</td>\n",
       "      <td>13085</td>\n",
       "      <td>United Kingdom</td>\n",
       "      <td>83.40</td>\n",
       "      <td>New</td>\n",
       "      <td>2009-12</td>\n",
       "    </tr>\n",
       "    <tr>\n",
       "      <td>2</td>\n",
       "      <td>489434</td>\n",
       "      <td>79323W</td>\n",
       "      <td>WHITE CHERRY LIGHTS</td>\n",
       "      <td>12</td>\n",
       "      <td>2009-12-01 07:45:00</td>\n",
       "      <td>6.75</td>\n",
       "      <td>13085</td>\n",
       "      <td>United Kingdom</td>\n",
       "      <td>81.0</td>\n",
       "      <td>85048</td>\n",
       "      <td>15CM CHRISTMAS GLASS BALL 20 LIGHTS</td>\n",
       "      <td>12</td>\n",
       "      <td>2009-12-01 07:45:00</td>\n",
       "      <td>6.95</td>\n",
       "      <td>13085</td>\n",
       "      <td>United Kingdom</td>\n",
       "      <td>83.40</td>\n",
       "      <td>New</td>\n",
       "      <td>2009-12</td>\n",
       "    </tr>\n",
       "    <tr>\n",
       "      <td>3</td>\n",
       "      <td>489434</td>\n",
       "      <td>22041</td>\n",
       "      <td>RECORD FRAME 7\" SINGLE SIZE</td>\n",
       "      <td>48</td>\n",
       "      <td>2009-12-01 07:45:00</td>\n",
       "      <td>2.10</td>\n",
       "      <td>13085</td>\n",
       "      <td>United Kingdom</td>\n",
       "      <td>100.8</td>\n",
       "      <td>85048</td>\n",
       "      <td>15CM CHRISTMAS GLASS BALL 20 LIGHTS</td>\n",
       "      <td>12</td>\n",
       "      <td>2009-12-01 07:45:00</td>\n",
       "      <td>6.95</td>\n",
       "      <td>13085</td>\n",
       "      <td>United Kingdom</td>\n",
       "      <td>83.40</td>\n",
       "      <td>New</td>\n",
       "      <td>2009-12</td>\n",
       "    </tr>\n",
       "    <tr>\n",
       "      <td>4</td>\n",
       "      <td>489434</td>\n",
       "      <td>21232</td>\n",
       "      <td>STRAWBERRY CERAMIC TRINKET BOX</td>\n",
       "      <td>24</td>\n",
       "      <td>2009-12-01 07:45:00</td>\n",
       "      <td>1.25</td>\n",
       "      <td>13085</td>\n",
       "      <td>United Kingdom</td>\n",
       "      <td>30.0</td>\n",
       "      <td>85048</td>\n",
       "      <td>15CM CHRISTMAS GLASS BALL 20 LIGHTS</td>\n",
       "      <td>12</td>\n",
       "      <td>2009-12-01 07:45:00</td>\n",
       "      <td>6.95</td>\n",
       "      <td>13085</td>\n",
       "      <td>United Kingdom</td>\n",
       "      <td>83.40</td>\n",
       "      <td>New</td>\n",
       "      <td>2009-12</td>\n",
       "    </tr>\n",
       "    <tr>\n",
       "      <td>...</td>\n",
       "      <td>...</td>\n",
       "      <td>...</td>\n",
       "      <td>...</td>\n",
       "      <td>...</td>\n",
       "      <td>...</td>\n",
       "      <td>...</td>\n",
       "      <td>...</td>\n",
       "      <td>...</td>\n",
       "      <td>...</td>\n",
       "      <td>...</td>\n",
       "      <td>...</td>\n",
       "      <td>...</td>\n",
       "      <td>...</td>\n",
       "      <td>...</td>\n",
       "      <td>...</td>\n",
       "      <td>...</td>\n",
       "      <td>...</td>\n",
       "      <td>...</td>\n",
       "      <td>...</td>\n",
       "    </tr>\n",
       "    <tr>\n",
       "      <td>700383</td>\n",
       "      <td>581585</td>\n",
       "      <td>22466</td>\n",
       "      <td>FAIRY TALE COTTAGE NIGHT LIGHT</td>\n",
       "      <td>12</td>\n",
       "      <td>2011-12-09 12:31:00</td>\n",
       "      <td>1.95</td>\n",
       "      <td>15804</td>\n",
       "      <td>United Kingdom</td>\n",
       "      <td>23.4</td>\n",
       "      <td>22481</td>\n",
       "      <td>BLACK TEA TOWEL CLASSIC DESIGN</td>\n",
       "      <td>12</td>\n",
       "      <td>2011-12-09 12:31:00</td>\n",
       "      <td>0.39</td>\n",
       "      <td>15804</td>\n",
       "      <td>United Kingdom</td>\n",
       "      <td>4.68</td>\n",
       "      <td>Repeat</td>\n",
       "      <td>2011-12</td>\n",
       "    </tr>\n",
       "    <tr>\n",
       "      <td>700384</td>\n",
       "      <td>581586</td>\n",
       "      <td>22061</td>\n",
       "      <td>LARGE CAKE STAND  HANGING STRAWBERY</td>\n",
       "      <td>8</td>\n",
       "      <td>2011-12-09 12:49:00</td>\n",
       "      <td>2.95</td>\n",
       "      <td>13113</td>\n",
       "      <td>United Kingdom</td>\n",
       "      <td>23.6</td>\n",
       "      <td>22061</td>\n",
       "      <td>LARGE CAKE STAND  HANGING STRAWBERY</td>\n",
       "      <td>8</td>\n",
       "      <td>2011-12-09 12:49:00</td>\n",
       "      <td>2.95</td>\n",
       "      <td>13113</td>\n",
       "      <td>United Kingdom</td>\n",
       "      <td>23.60</td>\n",
       "      <td>Repeat</td>\n",
       "      <td>2011-12</td>\n",
       "    </tr>\n",
       "    <tr>\n",
       "      <td>700385</td>\n",
       "      <td>581586</td>\n",
       "      <td>23275</td>\n",
       "      <td>SET OF 3 HANGING OWLS OLLIE BEAK</td>\n",
       "      <td>24</td>\n",
       "      <td>2011-12-09 12:49:00</td>\n",
       "      <td>1.25</td>\n",
       "      <td>13113</td>\n",
       "      <td>United Kingdom</td>\n",
       "      <td>30.0</td>\n",
       "      <td>22061</td>\n",
       "      <td>LARGE CAKE STAND  HANGING STRAWBERY</td>\n",
       "      <td>8</td>\n",
       "      <td>2011-12-09 12:49:00</td>\n",
       "      <td>2.95</td>\n",
       "      <td>13113</td>\n",
       "      <td>United Kingdom</td>\n",
       "      <td>23.60</td>\n",
       "      <td>Repeat</td>\n",
       "      <td>2011-12</td>\n",
       "    </tr>\n",
       "    <tr>\n",
       "      <td>700386</td>\n",
       "      <td>581586</td>\n",
       "      <td>21217</td>\n",
       "      <td>RED RETROSPOT ROUND CAKE TINS</td>\n",
       "      <td>24</td>\n",
       "      <td>2011-12-09 12:49:00</td>\n",
       "      <td>8.95</td>\n",
       "      <td>13113</td>\n",
       "      <td>United Kingdom</td>\n",
       "      <td>214.8</td>\n",
       "      <td>22061</td>\n",
       "      <td>LARGE CAKE STAND  HANGING STRAWBERY</td>\n",
       "      <td>8</td>\n",
       "      <td>2011-12-09 12:49:00</td>\n",
       "      <td>2.95</td>\n",
       "      <td>13113</td>\n",
       "      <td>United Kingdom</td>\n",
       "      <td>23.60</td>\n",
       "      <td>Repeat</td>\n",
       "      <td>2011-12</td>\n",
       "    </tr>\n",
       "    <tr>\n",
       "      <td>700387</td>\n",
       "      <td>581586</td>\n",
       "      <td>20685</td>\n",
       "      <td>DOORMAT RED RETROSPOT</td>\n",
       "      <td>10</td>\n",
       "      <td>2011-12-09 12:49:00</td>\n",
       "      <td>7.08</td>\n",
       "      <td>13113</td>\n",
       "      <td>United Kingdom</td>\n",
       "      <td>70.8</td>\n",
       "      <td>22061</td>\n",
       "      <td>LARGE CAKE STAND  HANGING STRAWBERY</td>\n",
       "      <td>8</td>\n",
       "      <td>2011-12-09 12:49:00</td>\n",
       "      <td>2.95</td>\n",
       "      <td>13113</td>\n",
       "      <td>United Kingdom</td>\n",
       "      <td>23.60</td>\n",
       "      <td>Repeat</td>\n",
       "      <td>2011-12</td>\n",
       "    </tr>\n",
       "  </tbody>\n",
       "</table>\n",
       "<p>669904 rows × 19 columns</p>\n",
       "</div>"
      ],
      "text/plain": [
       "        Invoice StockCode_x                        Description_x  Quantity_x  \\\n",
       "0        489434       85048  15CM CHRISTMAS GLASS BALL 20 LIGHTS          12   \n",
       "1        489434      79323P                   PINK CHERRY LIGHTS          12   \n",
       "2        489434      79323W                  WHITE CHERRY LIGHTS          12   \n",
       "3        489434       22041         RECORD FRAME 7\" SINGLE SIZE           48   \n",
       "4        489434       21232       STRAWBERRY CERAMIC TRINKET BOX          24   \n",
       "...         ...         ...                                  ...         ...   \n",
       "700383   581585       22466       FAIRY TALE COTTAGE NIGHT LIGHT          12   \n",
       "700384   581586       22061  LARGE CAKE STAND  HANGING STRAWBERY           8   \n",
       "700385   581586       23275     SET OF 3 HANGING OWLS OLLIE BEAK          24   \n",
       "700386   581586       21217        RED RETROSPOT ROUND CAKE TINS          24   \n",
       "700387   581586       20685                DOORMAT RED RETROSPOT          10   \n",
       "\n",
       "             InvoiceDate_x  Price_x  Customer ID_x       Country_x  Revenue_x  \\\n",
       "0      2009-12-01 07:45:00     6.95          13085  United Kingdom       83.4   \n",
       "1      2009-12-01 07:45:00     6.75          13085  United Kingdom       81.0   \n",
       "2      2009-12-01 07:45:00     6.75          13085  United Kingdom       81.0   \n",
       "3      2009-12-01 07:45:00     2.10          13085  United Kingdom      100.8   \n",
       "4      2009-12-01 07:45:00     1.25          13085  United Kingdom       30.0   \n",
       "...                    ...      ...            ...             ...        ...   \n",
       "700383 2011-12-09 12:31:00     1.95          15804  United Kingdom       23.4   \n",
       "700384 2011-12-09 12:49:00     2.95          13113  United Kingdom       23.6   \n",
       "700385 2011-12-09 12:49:00     1.25          13113  United Kingdom       30.0   \n",
       "700386 2011-12-09 12:49:00     8.95          13113  United Kingdom      214.8   \n",
       "700387 2011-12-09 12:49:00     7.08          13113  United Kingdom       70.8   \n",
       "\n",
       "       StockCode_y                        Description_y  Quantity_y  \\\n",
       "0            85048  15CM CHRISTMAS GLASS BALL 20 LIGHTS          12   \n",
       "1            85048  15CM CHRISTMAS GLASS BALL 20 LIGHTS          12   \n",
       "2            85048  15CM CHRISTMAS GLASS BALL 20 LIGHTS          12   \n",
       "3            85048  15CM CHRISTMAS GLASS BALL 20 LIGHTS          12   \n",
       "4            85048  15CM CHRISTMAS GLASS BALL 20 LIGHTS          12   \n",
       "...            ...                                  ...         ...   \n",
       "700383       22481       BLACK TEA TOWEL CLASSIC DESIGN          12   \n",
       "700384       22061  LARGE CAKE STAND  HANGING STRAWBERY           8   \n",
       "700385       22061  LARGE CAKE STAND  HANGING STRAWBERY           8   \n",
       "700386       22061  LARGE CAKE STAND  HANGING STRAWBERY           8   \n",
       "700387       22061  LARGE CAKE STAND  HANGING STRAWBERY           8   \n",
       "\n",
       "             InvoiceDate_y  Price_y  Customer ID_y       Country_y  Revenue_y  \\\n",
       "0      2009-12-01 07:45:00     6.95          13085  United Kingdom      83.40   \n",
       "1      2009-12-01 07:45:00     6.95          13085  United Kingdom      83.40   \n",
       "2      2009-12-01 07:45:00     6.95          13085  United Kingdom      83.40   \n",
       "3      2009-12-01 07:45:00     6.95          13085  United Kingdom      83.40   \n",
       "4      2009-12-01 07:45:00     6.95          13085  United Kingdom      83.40   \n",
       "...                    ...      ...            ...             ...        ...   \n",
       "700383 2011-12-09 12:31:00     0.39          15804  United Kingdom       4.68   \n",
       "700384 2011-12-09 12:49:00     2.95          13113  United Kingdom      23.60   \n",
       "700385 2011-12-09 12:49:00     2.95          13113  United Kingdom      23.60   \n",
       "700386 2011-12-09 12:49:00     2.95          13113  United Kingdom      23.60   \n",
       "700387 2011-12-09 12:49:00     2.95          13113  United Kingdom      23.60   \n",
       "\n",
       "          Type       YM  \n",
       "0          New  2009-12  \n",
       "1          New  2009-12  \n",
       "2          New  2009-12  \n",
       "3          New  2009-12  \n",
       "4          New  2009-12  \n",
       "...        ...      ...  \n",
       "700383  Repeat  2011-12  \n",
       "700384  Repeat  2011-12  \n",
       "700385  Repeat  2011-12  \n",
       "700386  Repeat  2011-12  \n",
       "700387  Repeat  2011-12  \n",
       "\n",
       "[669904 rows x 19 columns]"
      ]
     },
     "execution_count": 594,
     "metadata": {},
     "output_type": "execute_result"
    }
   ],
   "source": [
    "# Subsetting the dataframe for the above condition\n",
    "\n",
    "repeat = join[~join['Customer ID_x'].isin(days_diff[days_diff == 0].index)]\n",
    "repeat"
   ]
  },
  {
   "cell_type": "code",
   "execution_count": 646,
   "metadata": {},
   "outputs": [
    {
     "name": "stdout",
     "output_type": "stream",
     "text": [
      "Average Order Size of Repeat Customer is 3591.63.\n"
     ]
    }
   ],
   "source": [
    "# Average Order Size (Repeat: aos_r)\n",
    "\n",
    "aos_r = repeat.Revenue_x.sum()/len(repeat['Customer ID_x'].unique())\n",
    "print(\"Average Order Size of Repeat Customer is {:.2f}.\".format(aos_r))"
   ]
  },
  {
   "cell_type": "code",
   "execution_count": 647,
   "metadata": {},
   "outputs": [
    {
     "name": "stdout",
     "output_type": "stream",
     "text": [
      "Average Order Frequency of Repeat Customer is 8.28.\n"
     ]
    }
   ],
   "source": [
    "# Average Order Frequency (Repeat: aof_r)\n",
    "\n",
    "aof_r = (len(repeat['Invoice'].unique()))/(len(repeat['Customer ID_x'].unique()))\n",
    "print(\"Average Order Frequency of Repeat Customer is {:.2f}.\".format(aof_r))"
   ]
  },
  {
   "cell_type": "code",
   "execution_count": 649,
   "metadata": {},
   "outputs": [
    {
     "name": "stdout",
     "output_type": "stream",
     "text": [
      "Average Repeat Customer Value is 14862.97.\n"
     ]
    }
   ],
   "source": [
    "# Average Customer Value (Repeat: acv_r)\n",
    "\n",
    "acv_r = (aos_r * aof_r)/2\n",
    "print(\"Average Repeat Customer Value is {:.2f}.\".format(acv_r))"
   ]
  },
  {
   "cell_type": "code",
   "execution_count": 615,
   "metadata": {},
   "outputs": [
    {
     "data": {
      "text/plain": [
       "1475507"
      ]
     },
     "execution_count": 615,
     "metadata": {},
     "output_type": "execute_result"
    }
   ],
   "source": [
    "\n",
    "total_days_n = np.sum((repeat.groupby('Customer ID_x').InvoiceDate_x.max() - repeat.groupby('Customer ID_x').InvoiceDate_x.min()).dt.days)\n",
    "total_days_n"
   ]
  },
  {
   "cell_type": "code",
   "execution_count": 616,
   "metadata": {},
   "outputs": [
    {
     "data": {
      "text/plain": [
       "3874"
      ]
     },
     "execution_count": 616,
     "metadata": {},
     "output_type": "execute_result"
    }
   ],
   "source": [
    "\n",
    "repeat_len = len((repeat.groupby('Customer ID_x').InvoiceDate_x.max() - repeat.groupby('Customer ID_x').InvoiceDate_x.min()).dt.days)\n",
    "repeat_len"
   ]
  },
  {
   "cell_type": "code",
   "execution_count": 653,
   "metadata": {},
   "outputs": [
    {
     "name": "stdout",
     "output_type": "stream",
     "text": [
      "Average Repeat Customer Lifespan is 1.04.\n"
     ]
    }
   ],
   "source": [
    "# Average Customer Lifetime (Repeat: acl_r)\n",
    "\n",
    "acl_r = (total_days_n/repeat_len)/365\n",
    "print(\"Average Repeat Customer Lifespan is {:.2f}.\".format(acl_r))"
   ]
  },
  {
   "cell_type": "code",
   "execution_count": 654,
   "metadata": {},
   "outputs": [
    {
     "name": "stdout",
     "output_type": "stream",
     "text": [
      "Average Repeat Customer Lifetime Value is 31018.75.\n"
     ]
    }
   ],
   "source": [
    "# Average Customer Lifetime Value (Repeat: clv_r)\n",
    "\n",
    "clv_r = acv_n * acl_n\n",
    "print(\"Average Repeat Customer Lifetime Value is {:.2f}.\".format(clv_r))"
   ]
  },
  {
   "cell_type": "markdown",
   "metadata": {},
   "source": [
    "The drastic customer lifetime value for repeat customers is drastically high. This is solely because of their higher average order size and frequency of buying.\n",
    "\n",
    "In this case, our strategy must be focused on customer retention with higher order volume. Recommending ways to make customers loyal will be the key to our success."
   ]
  },
  {
   "cell_type": "code",
   "execution_count": null,
   "metadata": {},
   "outputs": [],
   "source": []
  }
 ],
 "metadata": {
  "kernelspec": {
   "display_name": "Python 3",
   "language": "python",
   "name": "python3"
  },
  "language_info": {
   "codemirror_mode": {
    "name": "ipython",
    "version": 3
   },
   "file_extension": ".py",
   "mimetype": "text/x-python",
   "name": "python",
   "nbconvert_exporter": "python",
   "pygments_lexer": "ipython3",
   "version": "3.7.4"
  }
 },
 "nbformat": 4,
 "nbformat_minor": 2
}
